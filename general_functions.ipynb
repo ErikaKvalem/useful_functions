{
 "cells": [
  {
   "attachments": {},
   "cell_type": "markdown",
   "id": "e1f6d829-87c7-417d-985a-59871d74f72f",
   "metadata": {},
   "source": [
    "# General functions "
   ]
  },
  {
   "cell_type": "code",
   "execution_count": null,
   "id": "8b1b497c-6327-480c-9290-50054b5b35e2",
   "metadata": {},
   "outputs": [],
   "source": [
    "#Function to get the difference between 2 lists \n",
    "def diff(list1, list2):\n",
    "    c = set(list1).union(set(list2))  # or c = set(list1) | set(list2)\n",
    "    d = set(list1).intersection(set(list2))  # or d = set(list1) & set(list2)\n",
    "    return list(c - d)"
   ]
  },
  {
   "cell_type": "code",
   "execution_count": null,
   "id": "93ced0cb",
   "metadata": {},
   "outputs": [],
   "source": [
    "#Kill jupyter notebook process\n",
    "ps aux | grep jupyter\n",
    "ps aux | grep jupyter | grep kvalem\n",
    "ps aux | grep jupyter | grep kvalem | awk \"{print $1}\"\n",
    "ps aux | grep jupyter | grep kvalem | \n",
    "ps aux | grep jupyter | grep kvalem | awk '{print $1}\n",
    "ps aux | grep jupyter | grep kvalem | awk '{print $1}'\n",
    "ps aux | grep jupyter | grep kvalem | awk '{print $2}'\n",
    "ps aux | grep jupyter | grep kvalem | awk '{print $2}' | xargs kill -9"
   ]
  },
  {
   "attachments": {},
   "cell_type": "markdown",
   "id": "f94807cc",
   "metadata": {},
   "source": [
    "\n",
    "VS STUDIO ISSUE not connecting to zeus\n",
    "\n",
    "rm /home/kvalem/.vscode-server/bin/695af097c7bd098fbf017ce3ac85e09bbc5dda06/vscode-remote-lock.kvalem.695af097c7bd098fbf017ce3ac85e09bbc5dda06\n"
   ]
  },
  {
   "attachments": {},
   "cell_type": "markdown",
   "id": "8f44e360",
   "metadata": {},
   "source": [
    "Make a script in python for all these files, with names \"GF-ICI1-CSP-1-LDB7631-1_S23_L003_I1_001.fastq.gz\n",
    "GF-ICI1-CSP-1-LDB7631-1_S23_L003_R1_001.fastq.gz\n",
    "GF-ICI1-CSP-1-LDB7631-1_S23_L003_R2_001.fastq.gz\n",
    "GF-ICI1-CSP-2-LDB7632-4_S26_L003_I1_001.fastq.gz\n",
    "GF-ICI1-CSP-2-LDB7632-4_S26_L003_R1_001.fastq.gz\n",
    "GF-ICI1-CSP-2-LDB7632-4_S26_L003_R2_001.fastq.gz ... \n",
    "\n",
    "That creates a symlink of all the files into another folder and renames every file without the pattern  \"-LDBXXXX-X_\" "
   ]
  },
  {
   "cell_type": "code",
   "execution_count": null,
   "id": "5e8c3526",
   "metadata": {},
   "outputs": [],
   "source": [
    "import os\n",
    "import re\n",
    "\n",
    "# Source folder path (folder with original files)\n",
    "source_folder = \"/data/projects/2021/MicrobialMetabolites/single-cell-sorted-cd8/2021-02-01_sorted_cd8_til/00_raw\"\n",
    "\n",
    "# Destination folder path (folder where symbolic links will be created)\n",
    "destination_folder = \"/data/projects/2021/MicrobialMetabolites/single-cell-sorted-cd8/2021-02-01_sorted_cd8_til/00_raw_rename\"\n",
    "\n",
    "# Regex pattern to remove from the filenames\n",
    "regex_pattern = r'-LDB\\d+-\\d+'\n",
    "\n",
    "# Get the list of all files in the source folder\n",
    "files = os.listdir(source_folder)\n",
    "\n",
    "# Create the destination folder if it doesn't exist\n",
    "if not os.path.exists(destination_folder):\n",
    "    os.makedirs(destination_folder)\n",
    "\n",
    "# Loop through each file in the source folder\n",
    "for file in files:\n",
    "    # Check if the file is a regular file (not a directory)\n",
    "    file_path = os.path.join(source_folder, file)\n",
    "    if os.path.isfile(file_path):\n",
    "        # Remove the pattern from the filename\n",
    "        new_file_name = re.sub(regex_pattern, '', file)\n",
    "        # Create a symlink in the destination folder\n",
    "        symlink_path = os.path.join(destination_folder, new_file_name)\n",
    "        os.symlink(file_path, symlink_path)"
   ]
  },
  {
   "attachments": {},
   "cell_type": "markdown",
   "id": "c2d5d044",
   "metadata": {},
   "source": [
    "Check apollo nodes "
   ]
  },
  {
   "attachments": {},
   "cell_type": "markdown",
   "id": "451e3e7e",
   "metadata": {},
   "source": [
    "well you can run qstat   to see if you have anything submitted to the queue and which has been scheduled on apollo-15.\n",
    "If you manually (for whatever reason) logged in into apollo-15 (which you normally should not do) you can check with ps axu"
   ]
  },
  {
   "attachments": {},
   "cell_type": "markdown",
   "id": "235e5bc4",
   "metadata": {},
   "source": [
    "qstat -u your_username\n",
    "qstat job_id\n",
    "watch -n 5 qstat -u your_username\n",
    "qstat\n"
   ]
  },
  {
   "cell_type": "code",
   "execution_count": null,
   "id": "e0b8b65b",
   "metadata": {},
   "outputs": [],
   "source": [
    "process.clusterOptions = { '-V -S /bin/bash -l gpu }"
   ]
  },
  {
   "attachments": {},
   "cell_type": "markdown",
   "id": "2270e384",
   "metadata": {},
   "source": [
    "Recursively find all files in current and subfolders "
   ]
  },
  {
   "cell_type": "code",
   "execution_count": null,
   "id": "9026a8c3",
   "metadata": {},
   "outputs": [],
   "source": [
    "find /data/projects/2021/ -type f -name \"*sge\"\n"
   ]
  },
  {
   "attachments": {},
   "cell_type": "markdown",
   "id": "4252a057",
   "metadata": {},
   "source": [
    "Annotation of cells in umap, using cellkb.com/, out of the ranked genes, copy this list into the website "
   ]
  },
  {
   "cell_type": "code",
   "execution_count": null,
   "id": "9a563fd9",
   "metadata": {},
   "outputs": [],
   "source": [
    "gene_list_ranked = sc.get.rank_genes_groups_df(adata_m, group=\"4\", key=\"dea_leiden_filtered\", gene_symbols=\"gene_symbols\").dropna().head(50)\n",
    "display(gene_list_ranked[[\"gene_symbols\", \"pvals_adj\"]])"
   ]
  },
  {
   "attachments": {},
   "cell_type": "markdown",
   "id": "47a3e632",
   "metadata": {},
   "source": [
    "Mount container in path in myscratch and run python script "
   ]
  },
  {
   "cell_type": "code",
   "execution_count": null,
   "id": "cccb7164",
   "metadata": {},
   "outputs": [],
   "source": [
    "singularity exec -B /home/kvalem/myScratch/:/mnt/ 2023-08-20-scvi-tools.sif python /mnt/test.py\n",
    "\n",
    "singularity exec /data/projects/2022/CRCA/containers/2023-08-20-scvi-tools.sif bash\n",
    "\n",
    "#montando data\n",
    "singularity shell -B /data/scratch/kvalem /data/scratch/kvalem/container/2024-scvi-tools_muon.sif --no-home\n",
    "\n",
    "singularity build --fakeroot 2024-scvi-tools_muon.sif 2024-scvi-tools_muon.def \n",
    "\n",
    "singularity build --fakeroot 2024-liana-cell2cell.sif 2024-liana-cell2cell.def \n",
    "\n",
    "SINGULARITY_CACHEDIR=/home/kvalem/myScratch/TMP_SING/\n",
    "\n",
    "echo $SINGULARITY_CACHEDIR\n"
   ]
  },
  {
   "cell_type": "code",
   "execution_count": null,
   "id": "acd78f9d",
   "metadata": {},
   "outputs": [],
   "source": [
    "pandas.set_option('display.max_rows', 100)\n",
    "pandas.set_option('display.max_columns', 1000)"
   ]
  },
  {
   "attachments": {},
   "cell_type": "markdown",
   "id": "0f186e64",
   "metadata": {},
   "source": [
    "Since a few days I can not connect to Zeus via VS code, on the regular terminal it works. I tried to install VS code updates, reload the SSH remote extension, but nothing really helps.\n",
    "Maybe I need to remove some cache or whatever, any suggestions?"
   ]
  },
  {
   "cell_type": "code",
   "execution_count": null,
   "id": "b1f4285f",
   "metadata": {},
   "outputs": [],
   "source": [
    "rm -f /home/ausserh/.vscode-server/bin/e7e037083ff4455cf320e344325dacb480062c3c/vscode-remote-lock.ausserh.e7e037083ff4455cf320e344325dacb480062c3c"
   ]
  },
  {
   "attachments": {},
   "cell_type": "markdown",
   "id": "b07ec97b",
   "metadata": {},
   "source": [
    "for p in $(ps axu | grep kvalem | grep kernel | awk '{print $2}'); do kill -9 $p; done\n",
    "for p in $(ps axu | grep kvalem | grep python | awk '{print $2}'); do kill -9 $p; done"
   ]
  },
  {
   "attachments": {},
   "cell_type": "markdown",
   "id": "bef384ab",
   "metadata": {},
   "source": [
    "Descargar pathway de KEGG database "
   ]
  },
  {
   "cell_type": "code",
   "execution_count": null,
   "id": "97f526ac",
   "metadata": {},
   "outputs": [],
   "source": [
    "wget https://rest.kegg.jp/get/map05140/kgml -O dasda.xml"
   ]
  },
  {
   "attachments": {},
   "cell_type": "markdown",
   "id": "480d48da",
   "metadata": {},
   "source": [
    "Add conda env to jupyter"
   ]
  },
  {
   "cell_type": "code",
   "execution_count": null,
   "id": "e9d10ed3",
   "metadata": {},
   "outputs": [],
   "source": [
    "pip install ipykernel\n",
    "\n",
    "python -m ipykernel install --user --name test_sccoda --display_name \"test_sccoda\"\n"
   ]
  },
  {
   "attachments": {},
   "cell_type": "markdown",
   "id": "0cc96740",
   "metadata": {},
   "source": [
    "BATCH  EFFECT CORRECTION (didi)"
   ]
  },
  {
   "cell_type": "code",
   "execution_count": null,
   "id": "f2af537b",
   "metadata": {},
   "outputs": [],
   "source": [
    "if(params$correct_batch) {\n",
    "      sampleAnno_limma = allSampleAnno |>\n",
    "        select(\"sample\", params$conditon_col, params$batch_col) |>\n",
    "        filter(get(params$conditon_col) %in% contrast_groups) |>\n",
    "        distinct()\n",
    "      \n",
    "      duplicates <- raw_counts[duplicated(raw_counts$gene_name), ]\n",
    "      \n",
    "      # save ensembl geneid to gene symbol mapping\n",
    "      ensg_to_genesymbol = raw_counts |> select(gene_id, gene_name)\n",
    "      \n",
    "      # filter raw counts\n",
    "      raw_counts.c = raw_counts |>\n",
    "        select(c(gene_id, sampleAnno_limma$sample)) |>\n",
    "        column_to_rownames(\"gene_id\") |>\n",
    "        round()\n",
    "      \n",
    "      # make dss object\n",
    "      dds <- DESeqDataSetFromMatrix(countData = raw_counts.c,\n",
    "                                    colData = sampleAnno_limma,\n",
    "                                    design = as.formula(paste0(\"~\", params$conditon_col)))\n",
    "      keep <- rowSums(counts(collapseReplicates(dds, dds[[params$conditon_col]]))) >= 10\n",
    "      dds <- dds[keep,]\n",
    "      \n",
    "      # make RLD\n",
    "      rld <- rlog(dds, blind=FALSE)\n",
    "      \n",
    "      # run limma batch correction\n",
    "      assay(rld) <- limma::removeBatchEffect(\n",
    "        x = assay(rld),\n",
    "        batch = rld[[params$batch_col]], \n",
    "        design = model.matrix(~rld[[params$conditon_col]])\n",
    "        )\n",
    "      \n",
    "      # make normalized corrected counts df\n",
    "      normalized_counts <-  as.data.frame(assay(rld)) |>\n",
    "        rownames_to_column(var = \"gene_id\") |>\n",
    "        as_tibble() |>\n",
    "        left_join(ensg_to_genesymbol) |>\n",
    "        select(c(gene_name, sampleAnno$sample)) |>\n",
    "        filter(! gene_name %in% duplicates$gene_name) |>\n",
    "        filter_at(\n",
    "          vars(! starts_with(\"gene_name\")), any_vars(. != 0)\n",
    "        )\n",
    "      nc.c <- normalized_counts\n",
    "    } else {\n",
    "      duplicates <- tpm[duplicated(tpm$gene_name), ]\n",
    "      tpm.c = tpm |>\n",
    "        select(c(gene_name, sampleAnno$sample)) |>\n",
    "        filter(! gene_name %in% duplicates$gene_name) |>\n",
    "        filter_at(\n",
    "          vars(! starts_with(\"gene_name\")), any_vars(. != 0)\n",
    "        )\n",
    "      nc.c <- tpm.c\n",
    "    } # end batch correct or TPM"
   ]
  },
  {
   "attachments": {},
   "cell_type": "markdown",
   "id": "c87b0e8f",
   "metadata": {},
   "source": [
    "CHANGE THE X AXIS IN SCANPY PLOT \n"
   ]
  },
  {
   "cell_type": "code",
   "execution_count": null,
   "id": "9f7dacb8",
   "metadata": {},
   "outputs": [],
   "source": [
    "sc.settings.set_figure_params(figsize=(15, 5))\n",
    "sc.pl.violin(acts, keys=['Granulocyte'], groupby='leiden')\n"
   ]
  },
  {
   "attachments": {},
   "cell_type": "markdown",
   "id": "2d67257b",
   "metadata": {},
   "source": [
    "Heatmap R columnas / filas con nombres en orden especifico"
   ]
  },
  {
   "cell_type": "code",
   "execution_count": null,
   "id": "05f4ebf8",
   "metadata": {},
   "outputs": [],
   "source": [
    "\n",
    "\n",
    "rownames(df_matrix) <- as.factor(relevel(c(\"hAO_r1_inf\",\"hAO_r2_inf\", \"hAO_r3_inf\",  \"hAO_r4_inf\",  \"hAO_r1_ctrl\",  \"hAO_r2_ctrl\",  \"hAO_r3_ctrl\",  \"hAO_r4_ctrl\")))\n",
    "\n",
    "## Plot\n",
    "pheatmap(df_matrix, border_color = NA, color=my_color, breaks = my_breaks,  show_column_dend = FALSE, show_row_dend=FALSE,\n",
    "         cluster_rows = F) "
   ]
  },
  {
   "attachments": {},
   "cell_type": "markdown",
   "id": "c94dd59d",
   "metadata": {},
   "source": [
    "NEXTFLOW BY DEFAULT "
   ]
  },
  {
   "cell_type": "code",
   "execution_count": null,
   "id": "5d7f9bbb",
   "metadata": {},
   "outputs": [],
   "source": [
    "nextflow run ../main.nf -profile icbi,conda\n"
   ]
  },
  {
   "attachments": {},
   "cell_type": "markdown",
   "id": "015e2d7f",
   "metadata": {},
   "source": [
    "qsub sge file "
   ]
  },
  {
   "cell_type": "code",
   "execution_count": null,
   "id": "895a8147",
   "metadata": {},
   "outputs": [],
   "source": [
    "#! /bin/sh\n",
    "#$ -S /bin/sh\n",
    "\n",
    "#$ -pe smp 10\n",
    "#$ -cwd\n",
    "#$ -V\n",
    "\n",
    "#### Jobdescription at qstat\n",
    "#$ -N neo_noFF\n",
    "\n",
    "#### Error Outputfile\n",
    "#$ -e ./LOGS/$JOB_NAME-$JOB_ID.err\n",
    "#$ -o ./LOGS/$JOB_NAME-$JOB_ID.log\n",
    "\n",
    "#### Resubmit\n",
    "#$ -r y\n",
    "\n",
    "hostname\n",
    "\n",
    "$ run cmd --in <>"
   ]
  },
  {
   "attachments": {},
   "cell_type": "markdown",
   "id": "136ddfd8",
   "metadata": {},
   "source": [
    "get a non-ancient compiler on Zeus"
   ]
  },
  {
   "cell_type": "code",
   "execution_count": null,
   "id": "44d88903",
   "metadata": {},
   "outputs": [],
   "source": [
    "scl enable devtoolset-11 bash"
   ]
  },
  {
   "attachments": {},
   "cell_type": "markdown",
   "id": "b2bbd796",
   "metadata": {},
   "source": [
    "compositional analysis sc (without sccoda)"
   ]
  },
  {
   "cell_type": "code",
   "execution_count": null,
   "id": "f25c04f3",
   "metadata": {},
   "outputs": [],
   "source": [
    "fig = pd.crosstab(adata_all_filtered.obs['sample_type'],\n",
    "            adata_all_filtered.obs['cell_type_coarse']).T.plot(kind='bar', stacked=True, legend = False, fontsize=9.5).get_figure()\n",
    "                                                               # figsize=(18, 14),  fontsize=17).get_figure()\n",
    "fig.savefig('/home/fotakis/myScratch/tools/crc-atlas/scripts/figures/bar_type_total.png')"
   ]
  },
  {
   "cell_type": "markdown",
   "id": "0db30a4b",
   "metadata": {},
   "source": [
    "Filter adata for specific adata.var"
   ]
  },
  {
   "cell_type": "code",
   "execution_count": null,
   "id": "3cda1ffc",
   "metadata": {},
   "outputs": [],
   "source": [
    " adata_scvi = adata[:, adata.var[\"highly_variable\"]].copy()"
   ]
  },
  {
   "cell_type": "code",
   "execution_count": null,
   "id": "bf59a0dd",
   "metadata": {},
   "outputs": [],
   "source": [
    "singularity shell name_container --nv --no-home"
   ]
  },
  {
   "cell_type": "code",
   "execution_count": null,
   "id": "438d9bd8",
   "metadata": {},
   "outputs": [],
   "source": [
    "scp /home/erikakvalem/Downloads/_1_Combined_Human7_ST_338471_4-5.BAM kvalem@zeus:/data/projects/2022/CRCA/data/own_datasets/ArnoldLab/BAM_files/Experiment_7/\n",
    "rsync /home/erikakvalem/Downloads/_1_Combined_Human7_ST_338471_4-5.BAM kvalem@zeus:/data/projects/2022/CRCA/data/own_datasets/ArnoldLab/BAM_files/Experiment_7/\n"
   ]
  },
  {
   "cell_type": "markdown",
   "id": "8331aea5",
   "metadata": {},
   "source": [
    "normalize & log transform raw counts save into new layer \n"
   ]
  },
  {
   "cell_type": "code",
   "execution_count": null,
   "id": "e5950f91",
   "metadata": {},
   "outputs": [],
   "source": [
    "adata.layers[\"log1p_norm\"] = adata.X.copy()\n",
    "sc.pp.normalize_total(adata, target_sum=1e6, layer=\"log1p_norm\")\n",
    "sc.pp.log1p(adata, base=6, layer=\"log1p_norm\")"
   ]
  },
  {
   "cell_type": "code",
   "execution_count": null,
   "id": "86c63af5",
   "metadata": {},
   "outputs": [],
   "source": [
    "sc.pl.dendrogram(adata,groupby= \"cell_type\")\n",
    "adata.layers['scaled'] = sc.pp.scale(adata, copy=True).X\n",
    "sc.pl.matrixplot(adata,var_names =gene_list, groupby= 'cell_type', dendrogram=False, use_raw = False,layer='log1p_norm', vmin=-2, vmax=2, cmap='RdBu_r')"
   ]
  },
  {
   "cell_type": "markdown",
   "id": "0a53461c",
   "metadata": {},
   "source": [
    "sge script to download fastqfiles with identifer in txt \n",
    "\n",
    "Example txt:\n",
    "SRR12603780\n",
    "SRR12603781\n",
    "SRR12603782\n",
    "SRR12603783\n",
    "SRR12603784\n",
    "SRR12603785\n",
    "SRR12603786\n",
    "SRR12603787\n",
    "SRR12603788\n",
    "SRR12603789\n",
    "SRR12603790"
   ]
  },
  {
   "cell_type": "code",
   "execution_count": null,
   "id": "e50609b6",
   "metadata": {},
   "outputs": [],
   "source": [
    "#! /bin/sh\n",
    "#$ -S /bin/sh\n",
    "\n",
    "#$ -pe smp 10\n",
    "#$ -cwd\n",
    "#$ -V\n",
    "\n",
    "#### Jobdescription at qstat\n",
    "#$ -N Martowicz\n",
    "\n",
    "#### Error Outputfile\n",
    "#$ -e ./LOGS/$JOB_NAME-$JOB_ID.err\n",
    "#$ -o ./LOGS/$JOB_NAME-$JOB_ID.log\n",
    "\n",
    "#### Resubmit\n",
    "#$ -r y\n",
    "\n",
    "hostname\n",
    "\n",
    "while IFS='' read -r line || [[ -n \"$line\" ]]; do\n",
    "    echo \"Downloading: $line\"\n",
    "    fastq-dump --split-files $line -O /home/fotakis/myScratch/projects/Martowicz_scrnaseq/\n",
    "done < \"/home/fotakis/myScratch/scripts/SRR_lists/SRR_Acc_List_Martowicz_scrnaseq.txt\""
   ]
  },
  {
   "cell_type": "markdown",
   "id": "bbe0fa17",
   "metadata": {},
   "source": [
    "Valentin funciton to remove cells expressing certain markers "
   ]
  },
  {
   "cell_type": "code",
   "execution_count": null,
   "id": "bbd966ce",
   "metadata": {},
   "outputs": [],
   "source": [
    "# %%\n",
    "from typing import Dict\n",
    "\n",
    "import numpy as np\n",
    "import pandas as pd\n",
    "from anndata import AnnData\n",
    "\n",
    "\n",
    "def score_seeds(\n",
    "    adata: AnnData,\n",
    "    seed_marker_genes: Dict[str, Dict[str, list]],\n",
    "    layer: str = \"log1p_norm\",\n",
    "    cutoff_sum_pos_marker_expression: float = 0.1,\n",
    "    cutoff_sum_neg_marker_expression: float = 0,\n",
    ") -> pd.Series:\n",
    "    \"\"\"Label seed cell types based on input pos/neg marker gene expression\"\"\"\n",
    "    \n",
    "    def _score_ct(adata, seed_marker_genes, layer, cutoff_sum_pos_marker_expression):\n",
    "        tmp_df = pd.DataFrame(index=adata.obs_names)\n",
    "        \n",
    "        for cell_type, markers in seed_marker_genes.items():\n",
    "            positive_conditions = []\n",
    "            negative_conditions = []\n",
    "            \n",
    "            for positive_markers_list in markers['positive']:\n",
    "                positive_condition = np.ravel(adata[:, adata.var_names.isin(positive_markers_list)].layers[layer].sum(1)) > cutoff_sum_pos_marker_expression\n",
    "                positive_conditions.append(positive_condition)\n",
    "            \n",
    "            for negative_markers_list in markers['negative']:\n",
    "                negative_condition = ~(np.ravel(adata[:, adata.var_names.isin(negative_markers_list)].layers[layer].sum(1)) > cutoff_sum_neg_marker_expression)\n",
    "                negative_conditions.append(negative_condition)\n",
    "            \n",
    "            combined_positive_condition = np.all(positive_conditions, axis=0)\n",
    "            combined_negative_condition = np.all(negative_conditions, axis=0)\n",
    "            \n",
    "            condition = combined_positive_condition & combined_negative_condition\n",
    "            tmp_df[f\"tmp_{cell_type}\"] = np.where(condition, cell_type, \"unknown\")\n",
    "        \n",
    "        return tmp_df\n",
    "\n",
    "    \n",
    "    def _combine_ct(row):\n",
    "        for ct in seed_ct:\n",
    "            if row[ct] != 'unknown':\n",
    "                return row[ct]\n",
    "        return 'unknown'\n",
    "\n",
    "    seed_df = _score_ct(adata, seed_marker_genes, layer, cutoff_sum_pos_marker_expression)\n",
    "    seed_ct = [f\"tmp_{ct}\" for ct in seed_marker_genes.keys()]\n",
    "    \n",
    "    return seed_df.apply(_combine_ct, axis=1)"
   ]
  },
  {
   "cell_type": "code",
   "execution_count": null,
   "id": "964187a5",
   "metadata": {},
   "outputs": [],
   "source": [
    "adata_mui.obs[\"cell_type_seed\"] = score_seeds(\n",
    "    adata_mui,\n",
    "    {\n",
    "        \"Unknown\": {\n",
    "            \"positive\": [['EPCAM']],\n",
    "            \"negative\": [[\"\"]],\n",
    "        },\n",
    "   },\n",
    "    cutoff_sum_pos_marker_expression=0.5,\n",
    ")"
   ]
  },
  {
   "cell_type": "markdown",
   "id": "10c12435",
   "metadata": {},
   "source": [
    "Valentin function to split clusters and integrate back "
   ]
  },
  {
   "cell_type": "code",
   "execution_count": null,
   "id": "20e13faa",
   "metadata": {},
   "outputs": [],
   "source": [
    "# %%\n",
    "def integrate_back(\n",
    "    adata: AnnData,\n",
    "    adata_subset: AnnData,\n",
    "    variable: str = \"cell_type\",\n",
    ") -> None:\n",
    "    \"\"\"Merge cell type annotations performed on a subset back into the main\n",
    "    AnnData object\"\"\"\n",
    "    adata.obs[variable] = adata.obs[variable].astype(\"str\")\n",
    "    adata.obs.loc[adata_subset.obs.index, variable] = adata_subset.obs[variable].astype(\"str\")"
   ]
  },
  {
   "cell_type": "code",
   "execution_count": null,
   "id": "2d31e3d8",
   "metadata": {},
   "outputs": [],
   "source": [
    "# Break up Monocyte/Dendritic cell cluster\n",
    "myeloid_sub = adata_blood_myeloid[adata_blood_myeloid.obs[\"leiden\"].isin([\"19\", \"8\", \"6\", \"0\", \"16\", ])].copy()\n",
    "sc.tl.leiden(myeloid_sub, 0.5, flavor=\"igraph\")\n",
    "\n",
    "cluster_annot = {\n",
    "    \"Monocyte classical\": [0, 1, 8, 7, 5],\n",
    "    \"Monocyte non-classical\": [2],\n",
    "    \"cDC\": [3, 6], # Not sure about the subsets cDC1/cDC2\n",
    "    \"pDC\": [4],\n",
    "}\n",
    "cluster_annot = {str(vi): k for k, v in cluster_annot.items() for vi in v}\n",
    "myeloid_sub.obs[\"cell_type_fine\"] = myeloid_sub.obs[\"leiden\"].map(cluster_annot)\n",
    "\n",
    "integrate_back(adata_blood_myeloid, myeloid_sub, variable=\"cell_type_fine\")"
   ]
  },
  {
   "cell_type": "markdown",
   "id": "51b3a2b1",
   "metadata": {},
   "source": [
    "\n",
    "Set up slurm nextflow \n",
    "-Specify profile cluster,conda in execution commmand\n",
    "- conda activate \n",
    "- cluster {\n",
    "        process.executor = 'slurm'\n",
    "        process.memory = '800 GB' #ram memory to reserve in the node \n",
    "        process.cores = '2' #number of cores inside the node \n",
    "        process.queueSize = 600 \n",
    "        process.time='48:00:00' # max time to run \n",
    "        \n",
    "    }\n",
    "-  withLabel: LIANA {\n",
    "        //container = \"/data/scratch/kvalem/container/liana_cell2cell/2024-liana-cell2cell.sif\"\n",
    "        publishDir = [\n",
    "            path: { \"${params.outdir}/liana/\" },\n",
    "            mode: params.publish_dir_mode,\n",
    "            saveAs: { filename -> filename.equals('versions.yml') ? null : filename },\n",
    "            enabled: false\n",
    "        ]\n",
    "        clusterOptions = { '--nodelist=apollo-16' } # specify node to use also apollo-[14-16] example \n",
    "        containerOptions = \"--nv --no-home\"\n",
    "        cpus = 8 // Forreproducibility need to fix number of cpus #number of cores to use inside de node \n",
    "    }\n",
    "\n",
    "to check if it is running properly:\n",
    "- ssh apollo-15 for example\n",
    "- top to see if the process is running\n",
    "-top - 20:13:14 up 54 days, 23:41,  1 user,  load average: 2.17, 5.30, 6.40\n",
    "Tasks: 483 total,   2 running, 481 sleeping,   0 stopped,   0 zombie\n",
    "%Cpu(s):  2.2 us,  0.0 sy,  0.0 ni, 97.7 id,  0.0 wa,  0.0 hi,  0.0 si,  0.0 st\n",
    "MiB Mem : 1031939.+total, 821133.2 free, 146624.1 used,  72958.8 buff/cache\n",
    "MiB Swap:  65535.0 total,  65358.7 free,    176.2 used. 885315.3 avail Mem  \n",
    "- htop to check hos the cores inside node are being used. \n",
    "\n",
    "- the tool you are trying to use might have a parallelization option example n_jobs in liana. \n",
    "    li.mt.rank_aggregate(adata,\n",
    "                          groupby='cell_type_fine',\n",
    "                            expr_prop=0.1,\n",
    "                            resource_name='consensus',\n",
    "                          verbose=True,\n",
    "                          key_added='rank_aggregate',\n",
    "                            layer = \"log1p_norm\",\n",
    "                            n_jobs=7,\n",
    "                              use_raw = False)\n",
    "\n",
    "- if it is not running correctly remove the resume flag after several tries \n",
    "- example of execution nextflow run main.nf -profile cluster,conda -w /data/scratch/kvalem/projects/2022/liana_cell2cell/test -params-file params.yml \n"
   ]
  },
  {
   "cell_type": "markdown",
   "id": "0317f4c7",
   "metadata": {},
   "source": [
    "Limma correct for batch effect. (Valentin)\n",
    "- You can use any other layer assay(vst) instead ov vst. \n",
    "- Batch is the batch key you want to correct for. \n",
    "- I think you can also correct for multiple effects, but I would also need to check the documentation"
   ]
  },
  {
   "cell_type": "code",
   "execution_count": null,
   "id": "5f98b473",
   "metadata": {},
   "outputs": [],
   "source": [
    "library(DESeq2)\n",
    "library(IHW)\n",
    "library(limma)\n",
    "\n",
    "...\n",
    "\n",
    "dds <- DESeqDataSetFromMatrix(\n",
    "  countData = count_mat |> column_to_rownames(var = \"gene_id\") |> ceiling(),\n",
    "  colData = colData |> column_to_rownames(var = sample_col),\n",
    "  rowData = rowData,\n",
    "  design = design_formula\n",
    ")\n",
    "# define reference level (not really necessary when uisng contrasts)\n",
    "dds[[cond_col]] <- relevel(dds[[cond_col]], ref = c2)\n",
    "\n",
    "## keep only genes where we have >= 10 reads per samplecondition in at least 2 samples\n",
    "dds <- estimateSizeFactors(dds)\n",
    "keep <- rowSums(counts(dds, normalized = TRUE) >= 10) >= 2\n",
    "dds <- dds[keep, ]\n",
    "rownames(dds) <- rowData(dds)$GeneSymbol\n",
    "\n",
    "# save normalized filtered count file\n",
    "norm_mat <- counts(dds, normalized = TRUE) |> as_tibble(rownames = \"gene_id\")\n",
    "write_tsv(norm_mat, file.path(outdir, paste0(prefix, \"_NormalizedCounts.tsv\")))\n",
    "\n",
    "# save normalized batch corrected filtered count file\n",
    "vst <- vst(dds, blind = FALSE)\n",
    "vst <- varianceStabilizingTransformation(dds, blind = FALSE)\n",
    "batch <- gsub(\"\\\\+\", \"\", covariate_formula) |> str_squish()\n",
    "assay(vst) <- limma::removeBatchEffect(x = assay(vst), batch = vst[[batch]])\n",
    "write_tsv(assay(vst) |> as_tibble(rownames = \"gene_id\"), file.path(outdir, paste0(prefix, \"_vst_batch_corrected_NormalizedCounts.tsv\")))\n",
    "\n"
   ]
  },
  {
   "cell_type": "markdown",
   "id": "6025f194",
   "metadata": {},
   "source": [
    "R plot - Violin plot for gene expression and statistical significance stars"
   ]
  },
  {
   "cell_type": "code",
   "execution_count": null,
   "id": "7b2e7264",
   "metadata": {},
   "outputs": [],
   "source": [
    "my_comparisons <- list(c(\"male\", \"female\"))\n",
    "result2 <- result2 %>%\n",
    "  filter(grepl(\"MAL2\", gene_name))\n",
    "\n",
    "ggplot(df_t, aes(x=sex,y=gene_name, fill=sex))+\n",
    "    geom_violin(trim=FALSE)+\n",
    "    geom_boxplot(width=0.1,fill=\"white\")+\n",
    "    theme(legend.position=\"none\")+\n",
    "    theme(axis.text.x = element_text(angle = 45, vjust = 1, hjust=1,size = 25))+\n",
    "    theme(axis.text.y = element_text(size = 25),\n",
    "        axis.title=element_text(size=25))+\n",
    "    theme(axis.title.x = element_blank())+\n",
    "   # ylab('PD-L1')+\n",
    "    scale_fill_manual(values=c(\"#D11141\", \"#414487FF\"))+\n",
    "    stat_compare_means(comparisons = my_comparisons, label.y = 6,size=8,label =\"p.signif\") +\n",
    "    stat_compare_means(label = \"p.format\",size=7,label.y = 6.35,label.x = 1.05 )#+\n",
    "    #ylim(0,7)"
   ]
  }
 ],
 "metadata": {
  "kernelspec": {
   "display_name": "Python 3 (ipykernel)",
   "language": "python",
   "name": "python3"
  },
  "language_info": {
   "codemirror_mode": {
    "name": "ipython",
    "version": 3
   },
   "file_extension": ".py",
   "mimetype": "text/x-python",
   "name": "python",
   "nbconvert_exporter": "python",
   "pygments_lexer": "ipython3",
   "version": "3.8.15"
  }
 },
 "nbformat": 4,
 "nbformat_minor": 5
}
